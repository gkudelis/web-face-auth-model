{
 "cells": [
  {
   "cell_type": "code",
   "execution_count": 22,
   "metadata": {
    "collapsed": true
   },
   "outputs": [],
   "source": [
    "%matplotlib inline\n",
    "\n",
    "from glob import glob\n",
    "from PIL import Image\n",
    "import cv2\n",
    "import numpy as np\n",
    "import pandas as pd\n",
    "np.random.seed(0)\n",
    "\n",
    "import matplotlib\n",
    "matplotlib.style.use('ggplot')"
   ]
  },
  {
   "cell_type": "code",
   "execution_count": 23,
   "metadata": {
    "collapsed": false
   },
   "outputs": [
    {
     "data": {
      "text/plain": [
       "[('orl_faces/s1/1.pgm', '1'),\n",
       " ('orl_faces/s1/10.pgm', '1'),\n",
       " ('orl_faces/s1/2.pgm', '1'),\n",
       " ('orl_faces/s1/3.pgm', '1'),\n",
       " ('orl_faces/s1/4.pgm', '1'),\n",
       " ('orl_faces/s1/5.pgm', '1'),\n",
       " ('orl_faces/s1/6.pgm', '1'),\n",
       " ('orl_faces/s1/7.pgm', '1'),\n",
       " ('orl_faces/s1/8.pgm', '1'),\n",
       " ('orl_faces/s1/9.pgm', '1'),\n",
       " ('orl_faces/s10/1.pgm', '10'),\n",
       " ('orl_faces/s10/10.pgm', '10'),\n",
       " ('orl_faces/s10/2.pgm', '10'),\n",
       " ('orl_faces/s10/3.pgm', '10'),\n",
       " ('orl_faces/s10/4.pgm', '10'),\n",
       " ('orl_faces/s10/5.pgm', '10'),\n",
       " ('orl_faces/s10/6.pgm', '10'),\n",
       " ('orl_faces/s10/7.pgm', '10'),\n",
       " ('orl_faces/s10/8.pgm', '10'),\n",
       " ('orl_faces/s10/9.pgm', '10'),\n",
       " ('orl_faces/s11/1.pgm', '11'),\n",
       " ('orl_faces/s11/10.pgm', '11'),\n",
       " ('orl_faces/s11/2.pgm', '11'),\n",
       " ('orl_faces/s11/3.pgm', '11'),\n",
       " ('orl_faces/s11/4.pgm', '11'),\n",
       " ('orl_faces/s11/5.pgm', '11'),\n",
       " ('orl_faces/s11/6.pgm', '11'),\n",
       " ('orl_faces/s11/7.pgm', '11'),\n",
       " ('orl_faces/s11/8.pgm', '11'),\n",
       " ('orl_faces/s11/9.pgm', '11'),\n",
       " ('orl_faces/s12/1.pgm', '12'),\n",
       " ('orl_faces/s12/10.pgm', '12'),\n",
       " ('orl_faces/s12/2.pgm', '12'),\n",
       " ('orl_faces/s12/3.pgm', '12'),\n",
       " ('orl_faces/s12/4.pgm', '12'),\n",
       " ('orl_faces/s12/5.pgm', '12'),\n",
       " ('orl_faces/s12/6.pgm', '12'),\n",
       " ('orl_faces/s12/7.pgm', '12'),\n",
       " ('orl_faces/s12/8.pgm', '12'),\n",
       " ('orl_faces/s12/9.pgm', '12'),\n",
       " ('orl_faces/s13/1.pgm', '13'),\n",
       " ('orl_faces/s13/10.pgm', '13'),\n",
       " ('orl_faces/s13/2.pgm', '13'),\n",
       " ('orl_faces/s13/3.pgm', '13'),\n",
       " ('orl_faces/s13/4.pgm', '13'),\n",
       " ('orl_faces/s13/5.pgm', '13'),\n",
       " ('orl_faces/s13/6.pgm', '13'),\n",
       " ('orl_faces/s13/7.pgm', '13'),\n",
       " ('orl_faces/s13/8.pgm', '13'),\n",
       " ('orl_faces/s13/9.pgm', '13'),\n",
       " ('orl_faces/s14/1.pgm', '14'),\n",
       " ('orl_faces/s14/10.pgm', '14'),\n",
       " ('orl_faces/s14/2.pgm', '14'),\n",
       " ('orl_faces/s14/3.pgm', '14'),\n",
       " ('orl_faces/s14/4.pgm', '14'),\n",
       " ('orl_faces/s14/5.pgm', '14'),\n",
       " ('orl_faces/s14/6.pgm', '14'),\n",
       " ('orl_faces/s14/7.pgm', '14'),\n",
       " ('orl_faces/s14/8.pgm', '14'),\n",
       " ('orl_faces/s14/9.pgm', '14'),\n",
       " ('orl_faces/s15/1.pgm', '15'),\n",
       " ('orl_faces/s15/10.pgm', '15'),\n",
       " ('orl_faces/s15/2.pgm', '15'),\n",
       " ('orl_faces/s15/3.pgm', '15'),\n",
       " ('orl_faces/s15/4.pgm', '15'),\n",
       " ('orl_faces/s15/5.pgm', '15'),\n",
       " ('orl_faces/s15/6.pgm', '15'),\n",
       " ('orl_faces/s15/7.pgm', '15'),\n",
       " ('orl_faces/s15/8.pgm', '15'),\n",
       " ('orl_faces/s15/9.pgm', '15'),\n",
       " ('orl_faces/s16/1.pgm', '16'),\n",
       " ('orl_faces/s16/10.pgm', '16'),\n",
       " ('orl_faces/s16/2.pgm', '16'),\n",
       " ('orl_faces/s16/3.pgm', '16'),\n",
       " ('orl_faces/s16/4.pgm', '16'),\n",
       " ('orl_faces/s16/5.pgm', '16'),\n",
       " ('orl_faces/s16/6.pgm', '16'),\n",
       " ('orl_faces/s16/7.pgm', '16'),\n",
       " ('orl_faces/s16/8.pgm', '16'),\n",
       " ('orl_faces/s16/9.pgm', '16'),\n",
       " ('orl_faces/s17/1.pgm', '17'),\n",
       " ('orl_faces/s17/10.pgm', '17'),\n",
       " ('orl_faces/s17/2.pgm', '17'),\n",
       " ('orl_faces/s17/3.pgm', '17'),\n",
       " ('orl_faces/s17/4.pgm', '17'),\n",
       " ('orl_faces/s17/5.pgm', '17'),\n",
       " ('orl_faces/s17/6.pgm', '17'),\n",
       " ('orl_faces/s17/7.pgm', '17'),\n",
       " ('orl_faces/s17/8.pgm', '17'),\n",
       " ('orl_faces/s17/9.pgm', '17'),\n",
       " ('orl_faces/s18/1.pgm', '18'),\n",
       " ('orl_faces/s18/10.pgm', '18'),\n",
       " ('orl_faces/s18/2.pgm', '18'),\n",
       " ('orl_faces/s18/3.pgm', '18'),\n",
       " ('orl_faces/s18/4.pgm', '18'),\n",
       " ('orl_faces/s18/5.pgm', '18'),\n",
       " ('orl_faces/s18/6.pgm', '18'),\n",
       " ('orl_faces/s18/7.pgm', '18'),\n",
       " ('orl_faces/s18/8.pgm', '18'),\n",
       " ('orl_faces/s18/9.pgm', '18'),\n",
       " ('orl_faces/s19/1.pgm', '19'),\n",
       " ('orl_faces/s19/10.pgm', '19'),\n",
       " ('orl_faces/s19/2.pgm', '19'),\n",
       " ('orl_faces/s19/3.pgm', '19'),\n",
       " ('orl_faces/s19/4.pgm', '19'),\n",
       " ('orl_faces/s19/5.pgm', '19'),\n",
       " ('orl_faces/s19/6.pgm', '19'),\n",
       " ('orl_faces/s19/7.pgm', '19'),\n",
       " ('orl_faces/s19/8.pgm', '19'),\n",
       " ('orl_faces/s19/9.pgm', '19'),\n",
       " ('orl_faces/s2/1.pgm', '2'),\n",
       " ('orl_faces/s2/10.pgm', '2'),\n",
       " ('orl_faces/s2/2.pgm', '2'),\n",
       " ('orl_faces/s2/3.pgm', '2'),\n",
       " ('orl_faces/s2/4.pgm', '2'),\n",
       " ('orl_faces/s2/5.pgm', '2'),\n",
       " ('orl_faces/s2/6.pgm', '2'),\n",
       " ('orl_faces/s2/7.pgm', '2'),\n",
       " ('orl_faces/s2/8.pgm', '2'),\n",
       " ('orl_faces/s2/9.pgm', '2'),\n",
       " ('orl_faces/s20/1.pgm', '20'),\n",
       " ('orl_faces/s20/10.pgm', '20'),\n",
       " ('orl_faces/s20/2.pgm', '20'),\n",
       " ('orl_faces/s20/3.pgm', '20'),\n",
       " ('orl_faces/s20/4.pgm', '20'),\n",
       " ('orl_faces/s20/5.pgm', '20'),\n",
       " ('orl_faces/s20/6.pgm', '20'),\n",
       " ('orl_faces/s20/7.pgm', '20'),\n",
       " ('orl_faces/s20/8.pgm', '20'),\n",
       " ('orl_faces/s20/9.pgm', '20'),\n",
       " ('orl_faces/s21/1.pgm', '21'),\n",
       " ('orl_faces/s21/10.pgm', '21'),\n",
       " ('orl_faces/s21/2.pgm', '21'),\n",
       " ('orl_faces/s21/3.pgm', '21'),\n",
       " ('orl_faces/s21/4.pgm', '21'),\n",
       " ('orl_faces/s21/5.pgm', '21'),\n",
       " ('orl_faces/s21/6.pgm', '21'),\n",
       " ('orl_faces/s21/7.pgm', '21'),\n",
       " ('orl_faces/s21/8.pgm', '21'),\n",
       " ('orl_faces/s21/9.pgm', '21'),\n",
       " ('orl_faces/s22/1.pgm', '22'),\n",
       " ('orl_faces/s22/10.pgm', '22'),\n",
       " ('orl_faces/s22/2.pgm', '22'),\n",
       " ('orl_faces/s22/3.pgm', '22'),\n",
       " ('orl_faces/s22/4.pgm', '22'),\n",
       " ('orl_faces/s22/5.pgm', '22'),\n",
       " ('orl_faces/s22/6.pgm', '22'),\n",
       " ('orl_faces/s22/7.pgm', '22'),\n",
       " ('orl_faces/s22/8.pgm', '22'),\n",
       " ('orl_faces/s22/9.pgm', '22'),\n",
       " ('orl_faces/s23/1.pgm', '23'),\n",
       " ('orl_faces/s23/10.pgm', '23'),\n",
       " ('orl_faces/s23/2.pgm', '23'),\n",
       " ('orl_faces/s23/3.pgm', '23'),\n",
       " ('orl_faces/s23/4.pgm', '23'),\n",
       " ('orl_faces/s23/5.pgm', '23'),\n",
       " ('orl_faces/s23/6.pgm', '23'),\n",
       " ('orl_faces/s23/7.pgm', '23'),\n",
       " ('orl_faces/s23/8.pgm', '23'),\n",
       " ('orl_faces/s23/9.pgm', '23'),\n",
       " ('orl_faces/s24/1.pgm', '24'),\n",
       " ('orl_faces/s24/10.pgm', '24'),\n",
       " ('orl_faces/s24/2.pgm', '24'),\n",
       " ('orl_faces/s24/3.pgm', '24'),\n",
       " ('orl_faces/s24/4.pgm', '24'),\n",
       " ('orl_faces/s24/5.pgm', '24'),\n",
       " ('orl_faces/s24/6.pgm', '24'),\n",
       " ('orl_faces/s24/7.pgm', '24'),\n",
       " ('orl_faces/s24/8.pgm', '24'),\n",
       " ('orl_faces/s24/9.pgm', '24'),\n",
       " ('orl_faces/s25/1.pgm', '25'),\n",
       " ('orl_faces/s25/10.pgm', '25'),\n",
       " ('orl_faces/s25/2.pgm', '25'),\n",
       " ('orl_faces/s25/3.pgm', '25'),\n",
       " ('orl_faces/s25/4.pgm', '25'),\n",
       " ('orl_faces/s25/5.pgm', '25'),\n",
       " ('orl_faces/s25/6.pgm', '25'),\n",
       " ('orl_faces/s25/7.pgm', '25'),\n",
       " ('orl_faces/s25/8.pgm', '25'),\n",
       " ('orl_faces/s25/9.pgm', '25'),\n",
       " ('orl_faces/s26/1.pgm', '26'),\n",
       " ('orl_faces/s26/10.pgm', '26'),\n",
       " ('orl_faces/s26/2.pgm', '26'),\n",
       " ('orl_faces/s26/3.pgm', '26'),\n",
       " ('orl_faces/s26/4.pgm', '26'),\n",
       " ('orl_faces/s26/5.pgm', '26'),\n",
       " ('orl_faces/s26/6.pgm', '26'),\n",
       " ('orl_faces/s26/7.pgm', '26'),\n",
       " ('orl_faces/s26/8.pgm', '26'),\n",
       " ('orl_faces/s26/9.pgm', '26'),\n",
       " ('orl_faces/s27/1.pgm', '27'),\n",
       " ('orl_faces/s27/10.pgm', '27'),\n",
       " ('orl_faces/s27/2.pgm', '27'),\n",
       " ('orl_faces/s27/3.pgm', '27'),\n",
       " ('orl_faces/s27/4.pgm', '27'),\n",
       " ('orl_faces/s27/5.pgm', '27'),\n",
       " ('orl_faces/s27/6.pgm', '27'),\n",
       " ('orl_faces/s27/7.pgm', '27'),\n",
       " ('orl_faces/s27/8.pgm', '27'),\n",
       " ('orl_faces/s27/9.pgm', '27'),\n",
       " ('orl_faces/s28/1.pgm', '28'),\n",
       " ('orl_faces/s28/10.pgm', '28'),\n",
       " ('orl_faces/s28/2.pgm', '28'),\n",
       " ('orl_faces/s28/3.pgm', '28'),\n",
       " ('orl_faces/s28/4.pgm', '28'),\n",
       " ('orl_faces/s28/5.pgm', '28'),\n",
       " ('orl_faces/s28/6.pgm', '28'),\n",
       " ('orl_faces/s28/7.pgm', '28'),\n",
       " ('orl_faces/s28/8.pgm', '28'),\n",
       " ('orl_faces/s28/9.pgm', '28'),\n",
       " ('orl_faces/s29/1.pgm', '29'),\n",
       " ('orl_faces/s29/10.pgm', '29'),\n",
       " ('orl_faces/s29/2.pgm', '29'),\n",
       " ('orl_faces/s29/3.pgm', '29'),\n",
       " ('orl_faces/s29/4.pgm', '29'),\n",
       " ('orl_faces/s29/5.pgm', '29'),\n",
       " ('orl_faces/s29/6.pgm', '29'),\n",
       " ('orl_faces/s29/7.pgm', '29'),\n",
       " ('orl_faces/s29/8.pgm', '29'),\n",
       " ('orl_faces/s29/9.pgm', '29'),\n",
       " ('orl_faces/s3/1.pgm', '3'),\n",
       " ('orl_faces/s3/10.pgm', '3'),\n",
       " ('orl_faces/s3/2.pgm', '3'),\n",
       " ('orl_faces/s3/3.pgm', '3'),\n",
       " ('orl_faces/s3/4.pgm', '3'),\n",
       " ('orl_faces/s3/5.pgm', '3'),\n",
       " ('orl_faces/s3/6.pgm', '3'),\n",
       " ('orl_faces/s3/7.pgm', '3'),\n",
       " ('orl_faces/s3/8.pgm', '3'),\n",
       " ('orl_faces/s3/9.pgm', '3'),\n",
       " ('orl_faces/s30/1.pgm', '30'),\n",
       " ('orl_faces/s30/10.pgm', '30'),\n",
       " ('orl_faces/s30/2.pgm', '30'),\n",
       " ('orl_faces/s30/3.pgm', '30'),\n",
       " ('orl_faces/s30/4.pgm', '30'),\n",
       " ('orl_faces/s30/5.pgm', '30'),\n",
       " ('orl_faces/s30/6.pgm', '30'),\n",
       " ('orl_faces/s30/7.pgm', '30'),\n",
       " ('orl_faces/s30/8.pgm', '30'),\n",
       " ('orl_faces/s30/9.pgm', '30'),\n",
       " ('orl_faces/s31/1.pgm', '31'),\n",
       " ('orl_faces/s31/10.pgm', '31'),\n",
       " ('orl_faces/s31/2.pgm', '31'),\n",
       " ('orl_faces/s31/3.pgm', '31'),\n",
       " ('orl_faces/s31/4.pgm', '31'),\n",
       " ('orl_faces/s31/5.pgm', '31'),\n",
       " ('orl_faces/s31/6.pgm', '31'),\n",
       " ('orl_faces/s31/7.pgm', '31'),\n",
       " ('orl_faces/s31/8.pgm', '31'),\n",
       " ('orl_faces/s31/9.pgm', '31'),\n",
       " ('orl_faces/s32/1.pgm', '32'),\n",
       " ('orl_faces/s32/10.pgm', '32'),\n",
       " ('orl_faces/s32/2.pgm', '32'),\n",
       " ('orl_faces/s32/3.pgm', '32'),\n",
       " ('orl_faces/s32/4.pgm', '32'),\n",
       " ('orl_faces/s32/5.pgm', '32'),\n",
       " ('orl_faces/s32/6.pgm', '32'),\n",
       " ('orl_faces/s32/7.pgm', '32'),\n",
       " ('orl_faces/s32/8.pgm', '32'),\n",
       " ('orl_faces/s32/9.pgm', '32'),\n",
       " ('orl_faces/s33/1.pgm', '33'),\n",
       " ('orl_faces/s33/10.pgm', '33'),\n",
       " ('orl_faces/s33/2.pgm', '33'),\n",
       " ('orl_faces/s33/3.pgm', '33'),\n",
       " ('orl_faces/s33/4.pgm', '33'),\n",
       " ('orl_faces/s33/5.pgm', '33'),\n",
       " ('orl_faces/s33/6.pgm', '33'),\n",
       " ('orl_faces/s33/7.pgm', '33'),\n",
       " ('orl_faces/s33/8.pgm', '33'),\n",
       " ('orl_faces/s33/9.pgm', '33'),\n",
       " ('orl_faces/s34/1.pgm', '34'),\n",
       " ('orl_faces/s34/10.pgm', '34'),\n",
       " ('orl_faces/s34/2.pgm', '34'),\n",
       " ('orl_faces/s34/3.pgm', '34'),\n",
       " ('orl_faces/s34/4.pgm', '34'),\n",
       " ('orl_faces/s34/5.pgm', '34'),\n",
       " ('orl_faces/s34/6.pgm', '34'),\n",
       " ('orl_faces/s34/7.pgm', '34'),\n",
       " ('orl_faces/s34/8.pgm', '34'),\n",
       " ('orl_faces/s34/9.pgm', '34'),\n",
       " ('orl_faces/s35/1.pgm', '35'),\n",
       " ('orl_faces/s35/10.pgm', '35'),\n",
       " ('orl_faces/s35/2.pgm', '35'),\n",
       " ('orl_faces/s35/3.pgm', '35'),\n",
       " ('orl_faces/s35/4.pgm', '35'),\n",
       " ('orl_faces/s35/5.pgm', '35'),\n",
       " ('orl_faces/s35/6.pgm', '35'),\n",
       " ('orl_faces/s35/7.pgm', '35'),\n",
       " ('orl_faces/s35/8.pgm', '35'),\n",
       " ('orl_faces/s35/9.pgm', '35'),\n",
       " ('orl_faces/s36/1.pgm', '36'),\n",
       " ('orl_faces/s36/10.pgm', '36'),\n",
       " ('orl_faces/s36/2.pgm', '36'),\n",
       " ('orl_faces/s36/3.pgm', '36'),\n",
       " ('orl_faces/s36/4.pgm', '36'),\n",
       " ('orl_faces/s36/5.pgm', '36'),\n",
       " ('orl_faces/s36/6.pgm', '36'),\n",
       " ('orl_faces/s36/7.pgm', '36'),\n",
       " ('orl_faces/s36/8.pgm', '36'),\n",
       " ('orl_faces/s36/9.pgm', '36'),\n",
       " ('orl_faces/s37/1.pgm', '37'),\n",
       " ('orl_faces/s37/10.pgm', '37'),\n",
       " ('orl_faces/s37/2.pgm', '37'),\n",
       " ('orl_faces/s37/3.pgm', '37'),\n",
       " ('orl_faces/s37/4.pgm', '37'),\n",
       " ('orl_faces/s37/5.pgm', '37'),\n",
       " ('orl_faces/s37/6.pgm', '37'),\n",
       " ('orl_faces/s37/7.pgm', '37'),\n",
       " ('orl_faces/s37/8.pgm', '37'),\n",
       " ('orl_faces/s37/9.pgm', '37'),\n",
       " ('orl_faces/s38/1.pgm', '38'),\n",
       " ('orl_faces/s38/10.pgm', '38'),\n",
       " ('orl_faces/s38/2.pgm', '38'),\n",
       " ('orl_faces/s38/3.pgm', '38'),\n",
       " ('orl_faces/s38/4.pgm', '38'),\n",
       " ('orl_faces/s38/5.pgm', '38'),\n",
       " ('orl_faces/s38/6.pgm', '38'),\n",
       " ('orl_faces/s38/7.pgm', '38'),\n",
       " ('orl_faces/s38/8.pgm', '38'),\n",
       " ('orl_faces/s38/9.pgm', '38'),\n",
       " ('orl_faces/s39/1.pgm', '39'),\n",
       " ('orl_faces/s39/10.pgm', '39'),\n",
       " ('orl_faces/s39/2.pgm', '39'),\n",
       " ('orl_faces/s39/3.pgm', '39'),\n",
       " ('orl_faces/s39/4.pgm', '39'),\n",
       " ('orl_faces/s39/5.pgm', '39'),\n",
       " ('orl_faces/s39/6.pgm', '39'),\n",
       " ('orl_faces/s39/7.pgm', '39'),\n",
       " ('orl_faces/s39/8.pgm', '39'),\n",
       " ('orl_faces/s39/9.pgm', '39'),\n",
       " ('orl_faces/s4/1.pgm', '4'),\n",
       " ('orl_faces/s4/10.pgm', '4'),\n",
       " ('orl_faces/s4/2.pgm', '4'),\n",
       " ('orl_faces/s4/3.pgm', '4'),\n",
       " ('orl_faces/s4/4.pgm', '4'),\n",
       " ('orl_faces/s4/5.pgm', '4'),\n",
       " ('orl_faces/s4/6.pgm', '4'),\n",
       " ('orl_faces/s4/7.pgm', '4'),\n",
       " ('orl_faces/s4/8.pgm', '4'),\n",
       " ('orl_faces/s4/9.pgm', '4'),\n",
       " ('orl_faces/s40/1.pgm', '40'),\n",
       " ('orl_faces/s40/10.pgm', '40'),\n",
       " ('orl_faces/s40/2.pgm', '40'),\n",
       " ('orl_faces/s40/3.pgm', '40'),\n",
       " ('orl_faces/s40/4.pgm', '40'),\n",
       " ('orl_faces/s40/5.pgm', '40'),\n",
       " ('orl_faces/s40/6.pgm', '40'),\n",
       " ('orl_faces/s40/7.pgm', '40'),\n",
       " ('orl_faces/s40/8.pgm', '40'),\n",
       " ('orl_faces/s40/9.pgm', '40'),\n",
       " ('orl_faces/s5/1.pgm', '5'),\n",
       " ('orl_faces/s5/10.pgm', '5'),\n",
       " ('orl_faces/s5/2.pgm', '5'),\n",
       " ('orl_faces/s5/3.pgm', '5'),\n",
       " ('orl_faces/s5/4.pgm', '5'),\n",
       " ('orl_faces/s5/5.pgm', '5'),\n",
       " ('orl_faces/s5/6.pgm', '5'),\n",
       " ('orl_faces/s5/7.pgm', '5'),\n",
       " ('orl_faces/s5/8.pgm', '5'),\n",
       " ('orl_faces/s5/9.pgm', '5'),\n",
       " ('orl_faces/s6/1.pgm', '6'),\n",
       " ('orl_faces/s6/10.pgm', '6'),\n",
       " ('orl_faces/s6/2.pgm', '6'),\n",
       " ('orl_faces/s6/3.pgm', '6'),\n",
       " ('orl_faces/s6/4.pgm', '6'),\n",
       " ('orl_faces/s6/5.pgm', '6'),\n",
       " ('orl_faces/s6/6.pgm', '6'),\n",
       " ('orl_faces/s6/7.pgm', '6'),\n",
       " ('orl_faces/s6/8.pgm', '6'),\n",
       " ('orl_faces/s6/9.pgm', '6'),\n",
       " ('orl_faces/s7/1.pgm', '7'),\n",
       " ('orl_faces/s7/10.pgm', '7'),\n",
       " ('orl_faces/s7/2.pgm', '7'),\n",
       " ('orl_faces/s7/3.pgm', '7'),\n",
       " ('orl_faces/s7/4.pgm', '7'),\n",
       " ('orl_faces/s7/5.pgm', '7'),\n",
       " ('orl_faces/s7/6.pgm', '7'),\n",
       " ('orl_faces/s7/7.pgm', '7'),\n",
       " ('orl_faces/s7/8.pgm', '7'),\n",
       " ('orl_faces/s7/9.pgm', '7'),\n",
       " ('orl_faces/s8/1.pgm', '8'),\n",
       " ('orl_faces/s8/10.pgm', '8'),\n",
       " ('orl_faces/s8/2.pgm', '8'),\n",
       " ('orl_faces/s8/3.pgm', '8'),\n",
       " ('orl_faces/s8/4.pgm', '8'),\n",
       " ('orl_faces/s8/5.pgm', '8'),\n",
       " ('orl_faces/s8/6.pgm', '8'),\n",
       " ('orl_faces/s8/7.pgm', '8'),\n",
       " ('orl_faces/s8/8.pgm', '8'),\n",
       " ('orl_faces/s8/9.pgm', '8'),\n",
       " ('orl_faces/s9/1.pgm', '9'),\n",
       " ('orl_faces/s9/10.pgm', '9'),\n",
       " ('orl_faces/s9/2.pgm', '9'),\n",
       " ('orl_faces/s9/3.pgm', '9'),\n",
       " ('orl_faces/s9/4.pgm', '9'),\n",
       " ('orl_faces/s9/5.pgm', '9'),\n",
       " ('orl_faces/s9/6.pgm', '9'),\n",
       " ('orl_faces/s9/7.pgm', '9'),\n",
       " ('orl_faces/s9/8.pgm', '9'),\n",
       " ('orl_faces/s9/9.pgm', '9')]"
      ]
     },
     "execution_count": 23,
     "metadata": {},
     "output_type": "execute_result"
    }
   ],
   "source": [
    "labelled_paths = [(s, s.split('/')[1][1:]) for s in glob('orl_faces/*/*')]\n",
    "labelled_paths"
   ]
  },
  {
   "cell_type": "code",
   "execution_count": 24,
   "metadata": {
    "collapsed": true,
    "scrolled": false
   },
   "outputs": [],
   "source": [
    "face_cascade = cv2.CascadeClassifier('haarcascade_frontalface_default.xml')"
   ]
  },
  {
   "cell_type": "markdown",
   "metadata": {
    "collapsed": true
   },
   "source": [
    "I've run face cropping, then calculated averages and standard deviations of widths/heights. Outcomes: cascades detect square \"faces\", the average size is 78.6px with standard deviation of 6px. Based on this I will resize all cropped images to 80px sized square for analysis."
   ]
  },
  {
   "cell_type": "code",
   "execution_count": 25,
   "metadata": {
    "collapsed": false
   },
   "outputs": [
    {
     "name": "stderr",
     "output_type": "stream",
     "text": [
      "/Users/giedrius/Projects/hackference2015/cv-testing/env/lib/python2.7/site-packages/ipykernel/__main__.py:9: DeprecationWarning: elementwise comparison failed; this will raise the error in the future.\n"
     ]
    }
   ],
   "source": [
    "faceshape = (80,80)\n",
    "ws = []\n",
    "hs = []\n",
    "data = []\n",
    "\n",
    "for (path, label) in labelled_paths:\n",
    "    im = cv2.imread(path, 0)\n",
    "    faces = face_cascade.detectMultiScale(im, 1.3, 5)\n",
    "    if faces == ():\n",
    "        #print 'missed a face'\n",
    "        continue\n",
    "    else:\n",
    "        (x,y,w,h) = faces.tolist()[0]\n",
    "        cropped = im[y:y+h, x:x+w]\n",
    "        reshaped = cv2.resize(cropped, faceshape, interpolation=cv2.INTER_LINEAR)\n",
    "        data.append(reshaped.flatten())\n",
    "        #labels.append(label)\n",
    "        #ws.append(w)\n",
    "        #hs.append(h)\n",
    "        \n",
    "#(np.mean(ws), np.std(ws), np.mean(hs), np.std(hs))\n",
    "labels0 = np.zeros(len(data))\n",
    "df0 = pd.DataFrame(data)"
   ]
  },
  {
   "cell_type": "code",
   "execution_count": 29,
   "metadata": {
    "collapsed": false
   },
   "outputs": [
    {
     "data": {
      "text/plain": [
       "array([104,  60,  30, ...,  62,  46,  40], dtype=uint8)"
      ]
     },
     "execution_count": 29,
     "metadata": {},
     "output_type": "execute_result"
    }
   ],
   "source": [
    "# test!\n",
    "im = Image.fromarray(reshaped)\n",
    "#im.show()\n",
    "reshaped.flatten()"
   ]
  },
  {
   "cell_type": "markdown",
   "metadata": {
    "collapsed": true
   },
   "source": [
    "Now load my face into the thingie!"
   ]
  },
  {
   "cell_type": "code",
   "execution_count": 30,
   "metadata": {
    "collapsed": false
   },
   "outputs": [
    {
     "name": "stderr",
     "output_type": "stream",
     "text": [
      "/Users/giedrius/Projects/hackference2015/cv-testing/env/lib/python2.7/site-packages/ipykernel/__main__.py:6: DeprecationWarning: elementwise comparison failed; this will raise the error in the future.\n"
     ]
    }
   ],
   "source": [
    "data = []\n",
    "for path in glob('gedfaces/*'):\n",
    "    imc = cv2.imread(path, 1)\n",
    "    im = cv2.cvtColor(imc, cv2.COLOR_BGR2GRAY)\n",
    "    faces = face_cascade.detectMultiScale(im, 1.3, 5)\n",
    "    if faces == ():\n",
    "        print 'missed a face'\n",
    "        continue\n",
    "    else:\n",
    "        (x,y,w,h) = faces.tolist()[0]\n",
    "        cropped = im[y:y+h, x:x+w]\n",
    "        reshaped = cv2.resize(cropped, faceshape, interpolation=cv2.INTER_LINEAR)\n",
    "        data.append(reshaped.flatten())\n",
    "        #labels.append(label)\n",
    "\n",
    "labels1 = np.ones(len(data))\n",
    "df1 = pd.DataFrame(data)"
   ]
  },
  {
   "cell_type": "code",
   "execution_count": 31,
   "metadata": {
    "collapsed": false
   },
   "outputs": [
    {
     "name": "stdout",
     "output_type": "stream",
     "text": [
      "missed a face\n",
      "missed a face\n",
      "missed a face\n",
      "missed a face\n",
      "missed a face\n",
      "missed a face\n"
     ]
    },
    {
     "name": "stderr",
     "output_type": "stream",
     "text": [
      "/Users/giedrius/Projects/hackference2015/cv-testing/env/lib/python2.7/site-packages/ipykernel/__main__.py:6: DeprecationWarning: elementwise comparison failed; this will raise the error in the future.\n"
     ]
    }
   ],
   "source": [
    "data = []\n",
    "for path in glob('other_faces/*'):\n",
    "    imc = cv2.imread(path, 1)\n",
    "    im = cv2.cvtColor(imc, cv2.COLOR_BGR2GRAY)\n",
    "    faces = face_cascade.detectMultiScale(im, 1.3, 5)\n",
    "    if faces == ():\n",
    "        print 'missed a face'\n",
    "        continue\n",
    "    else:\n",
    "        (x,y,w,h) = faces.tolist()[0]\n",
    "        cropped = im[y:y+h, x:x+w]\n",
    "        reshaped = cv2.resize(cropped, faceshape, interpolation=cv2.INTER_LINEAR)\n",
    "        data.append(reshaped.flatten())\n",
    "        #labels.append(label)\n",
    "\n",
    "labels2 = np.zeros(len(data))\n",
    "df2 = pd.DataFrame(data)"
   ]
  },
  {
   "cell_type": "markdown",
   "metadata": {
    "collapsed": true
   },
   "source": [
    "Join the data."
   ]
  },
  {
   "cell_type": "code",
   "execution_count": 32,
   "metadata": {
    "collapsed": false
   },
   "outputs": [],
   "source": [
    "labels = np.concatenate((labels0, labels1, labels2))\n",
    "df = df0.append(df1).append(df2)"
   ]
  },
  {
   "cell_type": "markdown",
   "metadata": {
    "collapsed": true
   },
   "source": [
    "# Training logistic regression"
   ]
  },
  {
   "cell_type": "code",
   "execution_count": 39,
   "metadata": {
    "collapsed": true
   },
   "outputs": [],
   "source": [
    "from sklearn.grid_search import GridSearchCV\n",
    "from sklearn.learning_curve import learning_curve, validation_curve"
   ]
  },
  {
   "cell_type": "code",
   "execution_count": 40,
   "metadata": {
    "collapsed": true
   },
   "outputs": [],
   "source": [
    "from sklearn.linear_model import LogisticRegression\n",
    "model = LogisticRegression()"
   ]
  },
  {
   "cell_type": "code",
   "execution_count": 41,
   "metadata": {
    "collapsed": false
   },
   "outputs": [],
   "source": [
    "# shuffle data!\n",
    "indices = np.random.permutation(labels.shape[0])\n",
    "labels_sh, df_sh = labels[indices], df.iloc[indices]\n",
    "df_sh = df_sh.reset_index(drop=True)"
   ]
  },
  {
   "cell_type": "code",
   "execution_count": 44,
   "metadata": {
    "collapsed": false
   },
   "outputs": [
    {
     "name": "stdout",
     "output_type": "stream",
     "text": [
      "CPU times: user 1.84 s, sys: 1.83 s, total: 3.67 s\n",
      "Wall time: 9.88 s\n"
     ]
    },
    {
     "data": {
      "image/png": "[encoded data removed]",
      "text/plain": [
       "<matplotlib.figure.Figure at 0x121abee90>"
      ]
     },
     "metadata": {},
     "output_type": "display_data"
    }
   ],
   "source": [
    "%%time\n",
    "c_range = np.logspace(-3, 3, 13)\n",
    "train_scores, valid_scores = validation_curve(model, df_sh, labels_sh, \"C\", c_range, scoring='f1', cv=3, n_jobs=4)\n",
    "vd = pd.DataFrame({'sc_train': train_scores.mean(1), 'sc_val': valid_scores.mean(1)}, index=c_range)\n",
    "vd.plot(kind='line')"
   ]
  },
  {
   "cell_type": "code",
   "execution_count": 46,
   "metadata": {
    "collapsed": false
   },
   "outputs": [
    {
     "name": "stdout",
     "output_type": "stream",
     "text": [
      "CPU times: user 1.45 s, sys: 1.39 s, total: 2.84 s\n",
      "Wall time: 5.49 s\n"
     ]
    },
    {
     "data": {
      "image/png": "[encoded data removed]",
      "text/plain": [
       "<matplotlib.figure.Figure at 0x10f9b2a90>"
      ]
     },
     "metadata": {},
     "output_type": "display_data"
    }
   ],
   "source": [
    "%%time\n",
    "n_train, train_scores, valid_scores = learning_curve(model, df_sh, labels_sh, train_sizes=np.linspace(0.3,1,10), scoring='f1', cv=3, n_jobs=4)\n",
    "ld = pd.DataFrame({'sc_train': train_scores.mean(1), 'sc_val': valid_scores.mean(1)}, index=n_train)\n",
    "ld.plot(kind='line')"
   ]
  },
  {
   "cell_type": "markdown",
   "metadata": {
    "collapsed": true
   },
   "source": [
    "# Fit and save final model"
   ]
  },
  {
   "cell_type": "code",
   "execution_count": 47,
   "metadata": {
    "collapsed": false
   },
   "outputs": [
    {
     "data": {
      "text/plain": [
       "LogisticRegression(C=1.0, class_weight=None, dual=False, fit_intercept=True,\n",
       "          intercept_scaling=1, max_iter=100, multi_class='ovr',\n",
       "          penalty='l2', random_state=None, solver='liblinear', tol=0.0001,\n",
       "          verbose=0)"
      ]
     },
     "execution_count": 47,
     "metadata": {},
     "output_type": "execute_result"
    }
   ],
   "source": [
    "model.fit(df_sh, labels_sh)"
   ]
  },
  {
   "cell_type": "code",
   "execution_count": 48,
   "metadata": {
    "collapsed": true
   },
   "outputs": [],
   "source": [
    "import pickle\n",
    "pickle.dump(model, open( \"model_lgrg.p\", \"wb\" ))"
   ]
  },
  {
   "cell_type": "code",
   "execution_count": null,
   "metadata": {
    "collapsed": true
   },
   "outputs": [],
   "source": []
  },
  {
   "cell_type": "code",
   "execution_count": null,
   "metadata": {
    "collapsed": true
   },
   "outputs": [],
   "source": []
  }
 ],
 "metadata": {
  "kernelspec": {
   "display_name": "Python 2",
   "language": "python",
   "name": "python2"
  },
  "language_info": {
   "codemirror_mode": {
    "name": "ipython",
    "version": 2
   },
   "file_extension": ".py",
   "mimetype": "text/x-python",
   "name": "python",
   "nbconvert_exporter": "python",
   "pygments_lexer": "ipython2",
   "version": "2.7.10"
  }
 },
 "nbformat": 4,
 "nbformat_minor": 0
}
